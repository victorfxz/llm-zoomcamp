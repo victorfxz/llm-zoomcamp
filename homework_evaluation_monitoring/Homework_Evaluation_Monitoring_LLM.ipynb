{
 "cells": [
  {
   "cell_type": "markdown",
   "id": "490471cf-a888-4807-9e47-9edee54a9039",
   "metadata": {},
   "source": [
    "# LLM Homework 04 - Evaluation and Monitoring"
   ]
  },
  {
   "cell_type": "markdown",
   "id": "87ea2245-d5f9-46ab-8554-ec427ca00dc4",
   "metadata": {},
   "source": [
    "### What's the first value of the resulting vector?"
   ]
  },
  {
   "cell_type": "code",
   "execution_count": 1,
   "id": "91f7a991-5a22-48bf-afe4-3537644a0de0",
   "metadata": {},
   "outputs": [],
   "source": [
    "import pandas as pd\n",
    "import numpy as np\n",
    "from tqdm import tqdm"
   ]
  },
  {
   "cell_type": "code",
   "execution_count": 2,
   "id": "d967a0c7-5369-4db2-9a39-b0e62b114a27",
   "metadata": {},
   "outputs": [],
   "source": [
    "base_url = 'https://github.com/DataTalksClub/llm-zoomcamp/blob/main'\n",
    "relative_url = '04-monitoring/data/results-gpt4o-mini.csv'\n",
    "\n",
    "docs_url = f'{base_url}/{relative_url}?raw=1'\n",
    "\n",
    "url = f'{docs_url}?raw=1'\n",
    "df = pd.read_csv(url)"
   ]
  },
  {
   "cell_type": "code",
   "execution_count": 3,
   "id": "94a59470-adf6-4b97-9f70-1b8aa2465273",
   "metadata": {},
   "outputs": [],
   "source": [
    "df = df.iloc[:300]"
   ]
  },
  {
   "cell_type": "code",
   "execution_count": 4,
   "id": "e922f5de-6b26-4798-ac01-169321e57e6d",
   "metadata": {},
   "outputs": [
    {
     "name": "stderr",
     "output_type": "stream",
     "text": [
      "C:\\Users\\felipe\\anaconda3\\Lib\\site-packages\\sentence_transformers\\cross_encoder\\CrossEncoder.py:11: TqdmExperimentalWarning: Using `tqdm.autonotebook.tqdm` in notebook mode. Use `tqdm.tqdm` instead to force console mode (e.g. in jupyter console)\n",
      "  from tqdm.autonotebook import tqdm, trange\n"
     ]
    }
   ],
   "source": [
    "from sentence_transformers import SentenceTransformer\n",
    "\n",
    "model_name = 'multi-qa-mpnet-base-dot-v1'\n",
    "embedding_model = SentenceTransformer(model_name)"
   ]
  },
  {
   "cell_type": "code",
   "execution_count": 5,
   "id": "b93b7869-d8ab-4060-9c93-d16d404e00c4",
   "metadata": {},
   "outputs": [
    {
     "name": "stdout",
     "output_type": "stream",
     "text": [
      "-0.4224466\n"
     ]
    }
   ],
   "source": [
    "answer_llm = df.iloc[0].answer_llm\n",
    "embedding = embedding_model.encode(answer_llm)\n",
    "\n",
    "print(embedding[0])"
   ]
  },
  {
   "cell_type": "markdown",
   "id": "77350153-a6d2-498f-bc3b-f47ed366d4e7",
   "metadata": {},
   "source": [
    "### What's the 75% percentile of the score?"
   ]
  },
  {
   "cell_type": "code",
   "execution_count": 6,
   "id": "0b070e1c-0c97-46e4-a810-04ac05b7bb88",
   "metadata": {},
   "outputs": [
    {
     "name": "stderr",
     "output_type": "stream",
     "text": [
      "100%|████████████████████████████████████████████████████████████████████████████████| 300/300 [02:02<00:00,  2.44it/s]\n"
     ]
    }
   ],
   "source": [
    "evaluations = []\n",
    "\n",
    "for index, row in tqdm(df.iterrows(), total=df.shape[0]):\n",
    "    answer_llm = row['answer_llm']\n",
    "    answer_orig = row['answer_orig']\n",
    "    embedding1 = embedding_model.encode(answer_llm)\n",
    "    embedding2 = embedding_model.encode(answer_orig)\n",
    "    \n",
    "    dot_product = np.dot(embedding1, embedding2)\n",
    "    evaluations.append(dot_product)"
   ]
  },
  {
   "cell_type": "code",
   "execution_count": 7,
   "id": "f5612280-63e5-45a8-a01f-72df24a8101c",
   "metadata": {},
   "outputs": [
    {
     "name": "stdout",
     "output_type": "stream",
     "text": [
      "31.6743106842041\n"
     ]
    }
   ],
   "source": [
    "percentile_75 = np.percentile(evaluations, 75)\n",
    "print(percentile_75)"
   ]
  },
  {
   "cell_type": "markdown",
   "id": "c242c9d2-3bc4-4b87-a2c7-5fcb2332a9d1",
   "metadata": {},
   "source": [
    "### What's the 75% cosine in the scores?"
   ]
  },
  {
   "cell_type": "code",
   "execution_count": 8,
   "id": "9d75c729-a02c-46e9-a79b-8129cec319f5",
   "metadata": {},
   "outputs": [],
   "source": [
    "def normalize_vector(v):\n",
    "    norm = np.sqrt((v * v).sum())\n",
    "    return v / norm\n",
    "\n",
    "def cosine_similarity(v1, v2):\n",
    "\n",
    "    v1_norm = normalize_vector(v1)\n",
    "    v2_norm = normalize_vector(v2)\n",
    "\n",
    "    return np.dot(v1_norm, v2_norm)"
   ]
  },
  {
   "cell_type": "code",
   "execution_count": 9,
   "id": "38ede293-5cc4-477e-88c7-b83811b3337f",
   "metadata": {},
   "outputs": [
    {
     "name": "stderr",
     "output_type": "stream",
     "text": [
      "100%|████████████████████████████████████████████████████████████████████████████████| 300/300 [02:02<00:00,  2.45it/s]\n"
     ]
    }
   ],
   "source": [
    "cosine_similarities = []\n",
    "\n",
    "for index, row in tqdm(df.iterrows(), total=df.shape[0]):\n",
    "\n",
    "    answer_llm = row['answer_llm']\n",
    "    answer_orig = row['answer_orig']\n",
    "    embedding1 = embedding_model.encode(answer_llm)\n",
    "    embedding2 = embedding_model.encode(answer_orig)\n",
    "\n",
    "    cosine_sim = cosine_similarity(embedding1, embedding2)\n",
    "    cosine_similarities.append(cosine_sim)"
   ]
  },
  {
   "cell_type": "code",
   "execution_count": 10,
   "id": "3ea26700-5a4e-4c3c-83cb-2f4e3b70516e",
   "metadata": {},
   "outputs": [
    {
     "name": "stdout",
     "output_type": "stream",
     "text": [
      "0.8362348079681396\n"
     ]
    }
   ],
   "source": [
    "percentile_75_cosine = np.percentile(cosine_similarities, 75)\n",
    "print(percentile_75_cosine)"
   ]
  },
  {
   "cell_type": "markdown",
   "id": "cf20f3d1-9354-4528-910a-84fffcdc3320",
   "metadata": {},
   "source": [
    "### What's the F score for 'rouge-1'?"
   ]
  },
  {
   "cell_type": "code",
   "execution_count": 11,
   "id": "36855f68-94a4-46c5-a6c0-03fd28e2c30e",
   "metadata": {},
   "outputs": [
    {
     "name": "stdout",
     "output_type": "stream",
     "text": [
      "Requirement already satisfied: rouge in c:\\users\\felipe\\anaconda3\\lib\\site-packages (1.0.1)\n",
      "Requirement already satisfied: six in c:\\users\\felipe\\anaconda3\\lib\\site-packages (from rouge) (1.16.0)\n"
     ]
    }
   ],
   "source": [
    "!pip install rouge"
   ]
  },
  {
   "cell_type": "code",
   "execution_count": 12,
   "id": "caee5daf-e5f0-4bc7-9fbe-511fa4c8dfbd",
   "metadata": {},
   "outputs": [
    {
     "name": "stdout",
     "output_type": "stream",
     "text": [
      "0.45454544954545456\n"
     ]
    }
   ],
   "source": [
    "from rouge import Rouge\n",
    "rouge_scorer = Rouge()\n",
    "\n",
    "r = df.iloc[10]\n",
    "scores = rouge_scorer.get_scores(r['answer_llm'], r['answer_orig'])[0]\n",
    "\n",
    "print(scores['rouge-1']['f'])"
   ]
  },
  {
   "cell_type": "markdown",
   "id": "164db288-ae38-482c-b977-6c4d12dc8cee",
   "metadata": {},
   "source": [
    "### Let's compute the average between rouge-1, rouge-2 and rouge-l for the same record from Q4"
   ]
  },
  {
   "cell_type": "code",
   "execution_count": 13,
   "id": "d46cc76d-a27d-4e12-92a5-814c54b16263",
   "metadata": {},
   "outputs": [
    {
     "name": "stdout",
     "output_type": "stream",
     "text": [
      "0.35490034990035496\n"
     ]
    }
   ],
   "source": [
    "rouge_1 = scores['rouge-1']['f']\n",
    "rouge_2 = scores['rouge-2']['f']\n",
    "rouge_l = scores['rouge-l']['f']\n",
    "\n",
    "rouge_avg = (rouge_1 + rouge_2 + rouge_l) / 3\n",
    "\n",
    "print(rouge_avg)"
   ]
  },
  {
   "cell_type": "markdown",
   "id": "3c0b8542-87d5-4172-9de9-dd663ddfca41",
   "metadata": {},
   "source": [
    "### What's the average rouge_2 across all the records?"
   ]
  },
  {
   "cell_type": "code",
   "execution_count": 14,
   "id": "86a7f6da-4698-42a2-ad04-e6d68af9f96e",
   "metadata": {},
   "outputs": [],
   "source": [
    "rouge_1_scores = []\n",
    "rouge_2_scores = []\n",
    "rouge_l_scores = []\n",
    "\n",
    "for index, row in df.iterrows():\n",
    "    \n",
    "    scores = rouge_scorer.get_scores(row['answer_llm'], row['answer_orig'])[0]\n",
    "    \n",
    "    rouge_1_scores.append(scores['rouge-1']['f'])\n",
    "    rouge_2_scores.append(scores['rouge-2']['f'])\n",
    "    rouge_l_scores.append(scores['rouge-l']['f'])"
   ]
  },
  {
   "cell_type": "code",
   "execution_count": 15,
   "id": "6d29b242-a64d-4aea-aa9b-475fdced4f4c",
   "metadata": {},
   "outputs": [
    {
     "name": "stdout",
     "output_type": "stream",
     "text": [
      "0.20696501983423318\n"
     ]
    }
   ],
   "source": [
    "average_rouge_2 = np.mean(rouge_2_scores)\n",
    "print(average_rouge_2)"
   ]
  }
 ],
 "metadata": {
  "kernelspec": {
   "display_name": "Python 3 (ipykernel)",
   "language": "python",
   "name": "python3"
  },
  "language_info": {
   "codemirror_mode": {
    "name": "ipython",
    "version": 3
   },
   "file_extension": ".py",
   "mimetype": "text/x-python",
   "name": "python",
   "nbconvert_exporter": "python",
   "pygments_lexer": "ipython3",
   "version": "3.11.5"
  }
 },
 "nbformat": 4,
 "nbformat_minor": 5
}
