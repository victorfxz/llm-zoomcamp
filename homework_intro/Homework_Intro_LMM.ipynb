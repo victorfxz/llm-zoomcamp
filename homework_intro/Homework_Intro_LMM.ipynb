{
 "cells": [
  {
   "cell_type": "code",
   "execution_count": null,
   "id": "0e740325-bb6f-4293-9d34-59ed52599cc8",
   "metadata": {},
   "outputs": [],
   "source": [
    "!curl localhost:9200"
   ]
  },
  {
   "cell_type": "code",
   "execution_count": null,
   "id": "4042c01b-1f76-4711-8693-26812e57df4b",
   "metadata": {},
   "outputs": [],
   "source": [
    "import requests"
   ]
  },
  {
   "cell_type": "code",
   "execution_count": null,
   "id": "ec724f0c-f4ee-4203-848e-1040368996e5",
   "metadata": {},
   "outputs": [],
   "source": [
    "docs_url = 'https://github.com/DataTalksClub/llm-zoomcamp/blob/main/01-intro/documents.json?raw=1'\n",
    "docs_response = requests.get(docs_url)\n",
    "documents_raw = docs_response.json()\n",
    "\n",
    "documents = []\n",
    "\n",
    "for course in documents_raw:\n",
    "    course_name = course['course']\n",
    "\n",
    "    for doc in course['documents']:\n",
    "        doc['course'] = course_name\n",
    "        documents.append(doc)"
   ]
  },
  {
   "cell_type": "code",
   "execution_count": null,
   "id": "f9b59691-1271-4226-a612-19a158aa4931",
   "metadata": {},
   "outputs": [],
   "source": [
    "print(documents)"
   ]
  },
  {
   "cell_type": "code",
   "execution_count": null,
   "id": "b91d760e-d4e2-43e3-a26f-a7eb7cac31c5",
   "metadata": {},
   "outputs": [],
   "source": [
    "from elasticsearch import Elasticsearch"
   ]
  },
  {
   "cell_type": "code",
   "execution_count": null,
   "id": "2b1941b3-f1a7-4c75-b755-133faf17915b",
   "metadata": {},
   "outputs": [],
   "source": [
    "es_client1 = Elasticsearch('http://localhost:9200')"
   ]
  },
  {
   "cell_type": "code",
   "execution_count": null,
   "id": "586bfed4-0354-493e-9bf6-3e09dd63c3ea",
   "metadata": {},
   "outputs": [],
   "source": [
    "es_client1.info()"
   ]
  },
  {
   "cell_type": "code",
   "execution_count": null,
   "id": "e2a05526-c47c-4427-8e48-c60d6e7724d3",
   "metadata": {},
   "outputs": [],
   "source": [
    "index_settings = {\n",
    "    \"settings\": {\n",
    "        \"number_of_shards\": 1,\n",
    "        \"number_of_replicas\": 0\n",
    "    },\n",
    "    \"mappings\": {\n",
    "        \"properties\": {\n",
    "            \"text\": {\"type\": \"text\"},\n",
    "            \"section\": {\"type\": \"text\"},\n",
    "            \"question\": {\"type\": \"text\"},\n",
    "            \"course\": {\"type\": \"keyword\"} \n",
    "        }\n",
    "    }\n",
    "}\n",
    "\n",
    "index_name = \"course-questions-3\"\n",
    "\n",
    "es_client1.indices.create(index=index_name, body=index_settings)"
   ]
  },
  {
   "cell_type": "code",
   "execution_count": null,
   "id": "fce84ead-c3ce-471a-a1b3-09381b623451",
   "metadata": {},
   "outputs": [],
   "source": [
    "documents[0]"
   ]
  },
  {
   "cell_type": "code",
   "execution_count": null,
   "id": "48b790f1-1a1e-4e53-aba4-83935eaa6c53",
   "metadata": {},
   "outputs": [],
   "source": [
    "from tqdm.auto import tqdm"
   ]
  },
  {
   "cell_type": "code",
   "execution_count": null,
   "id": "22359dda-6585-46b1-b764-b8e6b84c7c66",
   "metadata": {},
   "outputs": [],
   "source": [
    "for doc in tqdm(documents):\n",
    "    es_client1.index(index=index_name, document=doc)"
   ]
  },
  {
   "cell_type": "code",
   "execution_count": null,
   "id": "8078a045-2b53-4d81-9011-46d1a7d3e043",
   "metadata": {},
   "outputs": [],
   "source": [
    "def elastic_search(query, course='data-engineering-zoomcamp', size=3):\n",
    "    search_query = {\n",
    "        \"size\": size,\n",
    "        \"query\": {\n",
    "            \"bool\": {\n",
    "                \"must\": {\n",
    "                    \"multi_match\": {\n",
    "                        \"query\": query,\n",
    "                        \"fields\": [\"question^4\", \"text\"],\n",
    "                        \"type\": \"best_fields\"\n",
    "                    }\n",
    "                },\n",
    "                \"filter\": {\n",
    "                    \"term\": {\n",
    "                        \"course\": \"machine-learning-zoomcamp\"\n",
    "                    }\n",
    "                }\n",
    "            }\n",
    "        }\n",
    "    }\n",
    "\n",
    "    response = es_client1.search(index=index_name, body=search_query)\n",
    "    result_docs = [hit['_source'] for hit in response['hits']['hits']]\n",
    "    return result_docs, response['hits']['max_score']"
   ]
  },
  {
   "cell_type": "code",
   "execution_count": null,
   "id": "3acefb69-2cdc-48a3-9014-5762c5456efc",
   "metadata": {},
   "outputs": [],
   "source": [
    "query = \"How do I execute a command in a running docker container?\"\n",
    "result_docs, max_score = elastic_search(query)\n",
    "print(f\"Result: {max_score:.2f}\")"
   ]
  },
  {
   "cell_type": "code",
   "execution_count": null,
   "id": "97885e1c-1a62-4c40-b7f4-c9842b57d140",
   "metadata": {},
   "outputs": [],
   "source": [
    "query = \"How do I execute a command in a running docker container?\"\n",
    "result_docs, _ = elastic_search(query, course='machine-learning-zoomcamp')\n",
    "third_question = result_docs[2]['question'] if len(result_docs) > 2 else None\n",
    "print(f\"Result: {third_question}\")"
   ]
  },
  {
   "cell_type": "code",
   "execution_count": null,
   "id": "9a91e50b-7250-4797-9efc-a8abf070b0d0",
   "metadata": {},
   "outputs": [],
   "source": [
    "context_template = \"\"\"\n",
    "Q: {question}\n",
    "A: {text}\n",
    "\"\"\".strip()\n",
    "\n",
    "context = \"\\n\\n\".join(context_template.format(**doc) for doc in result_docs)"
   ]
  },
  {
   "cell_type": "code",
   "execution_count": null,
   "id": "a8fbb777-8653-4668-98be-297147e6535c",
   "metadata": {},
   "outputs": [],
   "source": [
    "prompt_template = \"\"\"\n",
    "You're a course teaching assistant. Answer the QUESTION based on the CONTEXT from the FAQ database.\n",
    "Use only the facts from the CONTEXT when answering the QUESTION.\n",
    "\n",
    "QUESTION: {question}\n",
    "\n",
    "CONTEXT:\n",
    "{context}\n",
    "\"\"\".strip()\n",
    "\n",
    "prompt = prompt_template.format(question=query, context=context)"
   ]
  },
  {
   "cell_type": "code",
   "execution_count": null,
   "id": "73b29888-1d11-40aa-b793-86f06c9a9e5a",
   "metadata": {},
   "outputs": [],
   "source": [
    "prompt_length = len(prompt)\n",
    "print(f\"Result: {prompt_length}\")"
   ]
  },
  {
   "cell_type": "code",
   "execution_count": null,
   "id": "79453881-ed34-4d66-8d25-f1ea1a59197e",
   "metadata": {},
   "outputs": [],
   "source": [
    "from transformers import BertTokenizer\n",
    "\n",
    "def count_tokens(text):\n",
    "    tokenizer = BertTokenizer.from_pretrained('bert-base-uncased')\n",
    "    tokens = tokenizer.tokenize(text)\n",
    "    return len(tokens)"
   ]
  },
  {
   "cell_type": "code",
   "execution_count": null,
   "id": "febce4c5-a3d5-4d99-a19e-e75861a6c170",
   "metadata": {},
   "outputs": [],
   "source": [
    "token_count = count_tokens(prompt)\n",
    "print(f\"Tokens Result: {token_count}\")"
   ]
  }
 ],
 "metadata": {
  "kernelspec": {
   "display_name": "Python 3 (ipykernel)",
   "language": "python",
   "name": "python3"
  },
  "language_info": {
   "codemirror_mode": {
    "name": "ipython",
    "version": 3
   },
   "file_extension": ".py",
   "mimetype": "text/x-python",
   "name": "python",
   "nbconvert_exporter": "python",
   "pygments_lexer": "ipython3",
   "version": "3.11.5"
  }
 },
 "nbformat": 4,
 "nbformat_minor": 5
}
